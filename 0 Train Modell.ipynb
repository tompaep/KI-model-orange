{
 "cells": [
  {
   "metadata": {},
   "cell_type": "markdown",
   "source": [
    "# Overview\n",
    "## Training YOLO Model\n",
    "\n",
    "This code initializes a YOLO model using the specified weights file (`yolo11n.pt`). It configures the training process with a given YAML file (`config.yaml`) and sets hyperparameters such as the number of epochs, batch size, and image size. The training is performed on the CPU. Once the training"
   ],
   "id": "e54129217186d9f1"
  },
  {
   "cell_type": "code",
   "execution_count": null,
   "id": "initial_id",
   "metadata": {
    "collapsed": true
   },
   "outputs": [],
   "source": [
    "from ultralytics import YOLO\n",
    "import torch\n",
    "\n",
    "# Step 1: Define training configuration\n",
    "config = {\n",
    "    \"model\": \"yolo11n.pt\",  # YOLO architecture or pre-trained weights\n",
    "    \"data\": \"config.yaml\",  # Path to the dataset configuration file\n",
    "    \"epochs\": 50,  # Number of training epochs\n",
    "    \"batch_size\": 16,  # Batch size\n",
    "    \"img_size\": 640,  # Input image size\n",
    "    \"device\": 'cuda' if torch.cuda.is_available() else 'cpu',  # Automatically select GPU if available\n",
    "    \"project\": \"runs/train\",  # Save results to this directory\n",
    "    \"name\": \"yolo11_experiment\",  # Name of the experiment\n",
    "    \"save_period\": 5,  # Save model every 5 epochs\n",
    "    \"resume\": False  # Option to resume training from a checkpoint\n",
    "}\n",
    "\n",
    "# Step 2: Initialize the YOLO model\n",
    "print(f\"Initializing YOLO model with weights: {config['model']}\")\n",
    "model = YOLO(config[\"model\"])\n",
    "\n",
    "# Step 3: Train the model\n",
    "print(f\"Starting training on {config['device']} for {config['epochs']} epochs...\")\n",
    "results = model.train(\n",
    "    data=config[\"data\"],  # Dataset configuration file\n",
    "    epochs=config[\"epochs\"],  # Number of training epochs\n",
    "    batch=config[\"batch_size\"],  # Batch size\n",
    "    imgsz=config[\"img_size\"],  # Input image size\n",
    "    device=config[\"device\"],  # Device (CPU or GPU)\n",
    "    project=config[\"project\"],  # Directory to save results\n",
    "    name=config[\"name\"],  # Experiment name\n",
    "    save_period=config[\"save_period\"],  # Model checkpoint saving frequency\n",
    "    resume=config[\"resume\"]  # Resume training if applicable\n",
    ")\n",
    "\n",
    "# Step 4: Print results and model summary\n",
    "print(\"Training complete!\")\n",
    "print(f\"Model results saved to: {results.save_dir}\")"
   ]
  }
 ],
 "metadata": {
  "kernelspec": {
   "display_name": "Python 3",
   "language": "python",
   "name": "python3"
  },
  "language_info": {
   "codemirror_mode": {
    "name": "ipython",
    "version": 2
   },
   "file_extension": ".py",
   "mimetype": "text/x-python",
   "name": "python",
   "nbconvert_exporter": "python",
   "pygments_lexer": "ipython2",
   "version": "2.7.6"
  }
 },
 "nbformat": 4,
 "nbformat_minor": 5
}
