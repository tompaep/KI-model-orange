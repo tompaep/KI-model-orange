{
 "cells": [
  {
   "cell_type": "code",
   "id": "initial_id",
   "metadata": {
    "collapsed": true,
    "ExecuteTime": {
     "end_time": "2025-01-03T13:47:51.281968Z",
     "start_time": "2025-01-03T13:47:50.548320Z"
    }
   },
   "source": [
    "import torch\n",
    "import numpy as np\n",
    "from art.attacks.evasion import FastGradientMethod\n",
    "from art.estimators.classification import PyTorchClassifier\n",
    "from your_training_script import Net  # Replace with the name of your training script\n",
    "import torch.nn as nn\n",
    "from art.utils import load_mnist\n",
    "\n",
    "# Step 1: Load the trained model\n",
    "model = Net()\n",
    "model.load_state_dict(torch.load(\"mnist_model.pth\"))\n",
    "model.eval()\n",
    "\n",
    "# Step 2: Load preprocessing details\n",
    "min_pixel_value, max_pixel_value = 0.0, 1.0  # Adjust if needed\n",
    "\n",
    "# Step 3: Define the ART classifier\n",
    "classifier = PyTorchClassifier(\n",
    "    model=model,\n",
    "    clip_values=(min_pixel_value, max_pixel_value),\n",
    "    loss=nn.CrossEntropyLoss(),\n",
    "    optimizer=None,  # Not needed for evaluation\n",
    "    input_shape=(1, 28, 28),\n",
    "    nb_classes=10,\n",
    ")\n",
    "\n",
    "# Step 4: Load the MNIST dataset\n",
    "(_, _), (x_test, y_test), _, _ = load_mnist()\n",
    "x_test = np.transpose(x_test, (0, 3, 1, 2)).astype(np.float32)\n",
    "\n",
    "# Step 5: Perform FGSM Attack\n",
    "epsilon = 0.1  # Define perturbation strength\n",
    "attack = FastGradientMethod(estimator=classifier, eps=epsilon)\n",
    "\n",
    "# Generate adversarial examples\n",
    "x_test_adv = attack.generate(x=x_test)\n",
    "\n",
    "# Step 6: Evaluate the model on adversarial examples\n",
    "predictions_adv = classifier.predict(x_test_adv)\n",
    "accuracy_adv = np.sum(np.argmax(predictions_adv, axis=1) == np.argmax(y_test, axis=1)) / len(y_test)\n",
    "\n",
    "print(\"Accuracy on adversarial test examples (FGSM, epsilon={}): {:.2f}%\".format(epsilon, accuracy_adv * 100))\n",
    "\n",
    "# Step 7: Evaluate the model on benign test examples (optional, for comparison)\n",
    "predictions_benign = classifier.predict(x_test)\n",
    "accuracy_benign = np.sum(np.argmax(predictions_benign, axis=1) == np.argmax(y_test, axis=1)) / len(y_test)\n",
    "\n",
    "print(\"Accuracy on benign test examples: {:.2f}%\".format(accuracy_benign * 100))\n"
   ],
   "outputs": [
    {
     "ename": "ModuleNotFoundError",
     "evalue": "No module named 'torch'",
     "output_type": "error",
     "traceback": [
      "\u001B[1;31m---------------------------------------------------------------------------\u001B[0m",
      "\u001B[1;31mModuleNotFoundError\u001B[0m                       Traceback (most recent call last)",
      "Cell \u001B[1;32mIn[1], line 1\u001B[0m\n\u001B[1;32m----> 1\u001B[0m \u001B[38;5;28;01mimport\u001B[39;00m \u001B[38;5;21;01mtorch\u001B[39;00m\n\u001B[0;32m      2\u001B[0m \u001B[38;5;28;01mimport\u001B[39;00m \u001B[38;5;21;01mnumpy\u001B[39;00m \u001B[38;5;28;01mas\u001B[39;00m \u001B[38;5;21;01mnp\u001B[39;00m\n\u001B[0;32m      3\u001B[0m \u001B[38;5;28;01mfrom\u001B[39;00m \u001B[38;5;21;01mart\u001B[39;00m\u001B[38;5;21;01m.\u001B[39;00m\u001B[38;5;21;01mattacks\u001B[39;00m\u001B[38;5;21;01m.\u001B[39;00m\u001B[38;5;21;01mevasion\u001B[39;00m \u001B[38;5;28;01mimport\u001B[39;00m FastGradientMethod\n",
      "\u001B[1;31mModuleNotFoundError\u001B[0m: No module named 'torch'"
     ]
    }
   ],
   "execution_count": 1
  },
  {
   "metadata": {},
   "cell_type": "code",
   "outputs": [],
   "execution_count": null,
   "source": "# run python robustness evaluation.py to run code\n",
   "id": "8be2c913fae942cc"
  },
  {
   "metadata": {},
   "cell_type": "code",
   "outputs": [],
   "execution_count": null,
   "source": "",
   "id": "48f368f08aca1860"
  }
 ],
 "metadata": {
  "kernelspec": {
   "display_name": "Python 3",
   "language": "python",
   "name": "python3"
  },
  "language_info": {
   "codemirror_mode": {
    "name": "ipython",
    "version": 2
   },
   "file_extension": ".py",
   "mimetype": "text/x-python",
   "name": "python",
   "nbconvert_exporter": "python",
   "pygments_lexer": "ipython2",
   "version": "2.7.6"
  }
 },
 "nbformat": 4,
 "nbformat_minor": 5
}
